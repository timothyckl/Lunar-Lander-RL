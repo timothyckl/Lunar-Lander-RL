{
 "cells": [
  {
   "attachments": {},
   "cell_type": "markdown",
   "metadata": {},
   "source": [
    "# Dueling DQL Agent w/ Random Engine Failure"
   ]
  },
  {
   "cell_type": "code",
   "execution_count": 1,
   "metadata": {},
   "outputs": [],
   "source": [
    "import os\n",
    "import json\n",
    "import wandb\n",
    "import gymnasium as gym\n",
    "from matplotlib import pyplot as plt\n",
    "import seaborn as sns\n",
    "from models.dueling_dql import DuelingDQL"
   ]
  },
  {
   "cell_type": "code",
   "execution_count": 2,
   "metadata": {},
   "outputs": [],
   "source": [
    "env = gym.make('LunarLander-v2', continuous=False, render_mode='rgb_array')\n",
    "learning_rate = 1e-3\n",
    "discount_factor = 0.99\n",
    "exploration_rate = 1.0\n",
    "episodes = 500\n",
    "max_steps = 1000"
   ]
  },
  {
   "attachments": {},
   "cell_type": "markdown",
   "metadata": {},
   "source": [
    "## Training"
   ]
  },
  {
   "cell_type": "code",
   "execution_count": 3,
   "metadata": {},
   "outputs": [
    {
     "name": "stdout",
     "output_type": "stream",
     "text": [
      "[EP 1/10] - Reward: -92.7036 - Steps: 63 - Eps: 1.0000 - Time: 0.67s\n",
      "[EP 2/10] - Reward: -286.5529 - Steps: 106 - Eps: 0.0100 - Time: 10.59s\n",
      "[EP 3/10] - Reward: -181.9499 - Steps: 75 - Eps: 0.0100 - Time: 4.93s\n",
      "[EP 4/10] - Reward: -343.1262 - Steps: 85 - Eps: 0.0100 - Time: 6.54s\n",
      "[EP 5/10] - Reward: -80.0458 - Steps: 91 - Eps: 0.0100 - Time: 5.17s\n",
      "[EP 6/10] - Reward: -135.7120 - Steps: 87 - Eps: 0.0100 - Time: 4.96s\n",
      "[EP 7/10] - Reward: -258.8359 - Steps: 99 - Eps: 0.0100 - Time: 4.81s\n",
      "[EP 8/10] - Reward: -442.2399 - Steps: 79 - Eps: 0.0100 - Time: 3.99s\n",
      "[EP 9/10] - Reward: -77.2574 - Steps: 115 - Eps: 0.0100 - Time: 6.05s\n",
      "[EP 10/10] - Reward: -131.5398 - Steps: 99 - Eps: 0.0100 - Time: 5.04s\n",
      "INFO:tensorflow:Assets written to: assets/dueling_dql_ef\\assets\n"
     ]
    }
   ],
   "source": [
    "agent = DuelingDQL(env, learning_rate, discount_factor, exploration_rate,\n",
    "                   random_engine_fail=True, engine_fail_prob=0.6, fname='dueling_dql_ef')\n",
    "history = agent.train(episodes, max_steps, log_wandb=True, save_episodes=True, save_interval=100)"
   ]
  },
  {
   "cell_type": "code",
   "execution_count": null,
   "metadata": {},
   "outputs": [],
   "source": [
    "# save history\n",
    "if not os.path.exists('./history'):\n",
    "        os.mkdir('./history')\n",
    "\n",
    "with open('./history/dueling_dql_ef_history.json', 'w') as file:\n",
    "    json.dump(history, file)"
   ]
  },
  {
   "attachments": {},
   "cell_type": "markdown",
   "metadata": {},
   "source": [
    "## Evaluation"
   ]
  },
  {
   "cell_type": "code",
   "execution_count": null,
   "metadata": {},
   "outputs": [],
   "source": [
    "# with open('history\\dueling_dql_history.json', 'r') as file:\n",
    "#     history = json.load(file)\n",
    "\n",
    "# rewards, avg_rewards, steps = history['reward'], history['avg_reward_100'], history['steps']"
   ]
  },
  {
   "cell_type": "code",
   "execution_count": null,
   "metadata": {},
   "outputs": [],
   "source": [
    "# plt.figure(figsize=(10, 5))\n",
    "\n",
    "# plt.plot(rewards, alpha=0.8, label='Reward')\n",
    "# plt.plot(avg_rewards, label='MA Reward (100)')\n",
    "\n",
    "# plt.title('DDQL Agent w/ Random Engine Failure Rewards')\n",
    "# plt.xlabel('Episode')\n",
    "# plt.ylabel('Reward')\n",
    "# plt.legend()\n",
    "\n",
    "# plt.show()"
   ]
  },
  {
   "cell_type": "code",
   "execution_count": null,
   "metadata": {},
   "outputs": [],
   "source": [
    "# # plot cumulative reward\n",
    "# cumulative_reward = [sum(rewards[:i+1]) for i in range(len(rewards))]\n",
    "# plt.figure(figsize=(10, 5))\n",
    "\n",
    "# plt.plot(cumulative_reward, alpha=0.8, label='Cumulative Reward')\n",
    "\n",
    "# plt.title('DDQL Agent w/ Random Engine Failure Cumulative Rewards')\n",
    "# plt.xlabel('Episode')\n",
    "# plt.ylabel('Reward')\n",
    "# plt.legend()\n",
    "# plt.show()"
   ]
  },
  {
   "cell_type": "code",
   "execution_count": null,
   "metadata": {},
   "outputs": [],
   "source": [
    "# # plot steps and moving average steps\n",
    "# avg_steps = [sum(steps[:i+1])/(i+1) for i in range(len(steps))]\n",
    "# plt.figure(figsize=(10, 5))\n",
    "\n",
    "# plt.plot(steps, alpha=0.8, label='Steps')\n",
    "# plt.plot(avg_steps, label='MA Steps (100)')\n",
    "\n",
    "# plt.title('DDQL w/ Random Engine Failure Agent Steps')\n",
    "# plt.xlabel('Episode')\n",
    "# plt.ylabel('Steps')\n",
    "# plt.legend()\n",
    "# plt.show()"
   ]
  }
 ],
 "metadata": {
  "kernelspec": {
   "display_name": "gpu_env",
   "language": "python",
   "name": "python3"
  },
  "language_info": {
   "codemirror_mode": {
    "name": "ipython",
    "version": 3
   },
   "file_extension": ".py",
   "mimetype": "text/x-python",
   "name": "python",
   "nbconvert_exporter": "python",
   "pygments_lexer": "ipython3",
   "version": "3.8.13"
  },
  "orig_nbformat": 4,
  "vscode": {
   "interpreter": {
    "hash": "15c5baac91721a2e9125fc9e7830b5bd4b6688550f5daa42d124d7a05043362d"
   }
  }
 },
 "nbformat": 4,
 "nbformat_minor": 2
}
