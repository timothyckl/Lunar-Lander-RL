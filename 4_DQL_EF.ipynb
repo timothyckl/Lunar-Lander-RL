{
 "cells": [
  {
   "attachments": {},
   "cell_type": "markdown",
   "id": "b15c2f2c",
   "metadata": {},
   "source": [
    "# Deep Q-Learning Agent w/ Random Engine Failure"
   ]
  },
  {
   "cell_type": "code",
   "execution_count": null,
   "id": "ea04686c",
   "metadata": {
    "execution": {
     "iopub.execute_input": "2023-01-25T07:10:57.885906Z",
     "iopub.status.busy": "2023-01-25T07:10:57.885589Z",
     "iopub.status.idle": "2023-01-25T07:11:07.188694Z",
     "shell.execute_reply": "2023-01-25T07:11:07.187472Z"
    },
    "papermill": {
     "duration": 9.311761,
     "end_time": "2023-01-25T07:11:07.191579",
     "exception": false,
     "start_time": "2023-01-25T07:10:57.879818",
     "status": "completed"
    },
    "tags": []
   },
   "outputs": [],
   "source": [
    "import os\n",
    "import json\n",
    "import wandb\n",
    "import gymnasium as gym\n",
    "from matplotlib import pyplot as plt\n",
    "import seaborn as sns\n",
    "from models.dql import DQL"
   ]
  },
  {
   "cell_type": "code",
   "execution_count": null,
   "id": "b4896d5d",
   "metadata": {},
   "outputs": [],
   "source": [
    "!wandb login 5f71bc6f91cdaa551a70e88cf2522fcc1425d29b"
   ]
  },
  {
   "cell_type": "code",
   "execution_count": null,
   "id": "829c7789",
   "metadata": {
    "execution": {
     "iopub.execute_input": "2023-01-25T07:11:09.700514Z",
     "iopub.status.busy": "2023-01-25T07:11:09.699483Z",
     "iopub.status.idle": "2023-01-25T07:11:16.992782Z",
     "shell.execute_reply": "2023-01-25T07:11:16.991263Z"
    },
    "papermill": {
     "duration": 7.303986,
     "end_time": "2023-01-25T07:11:16.997697",
     "exception": false,
     "start_time": "2023-01-25T07:11:09.693711",
     "status": "completed"
    },
    "tags": []
   },
   "outputs": [],
   "source": [
    "env = gym.make('LunarLander-v2', continuous=False, render_mode='rgb_array')\n",
    "learning_rate = 0.0005\n",
    "discount_factor = 0.99\n",
    "exploration_rate = 1.0\n",
    "episodes = 500\n",
    "max_steps = 1000\n",
    "\n",
    "wandb.init(project='lunar-lander-rl', entity='timothyckl', config={\n",
    "    'learning_rate': learning_rate,\n",
    "    'discount_factor': discount_factor,\n",
    "    'exploration_rate': exploration_rate,\n",
    "    'episodes': episodes,\n",
    "    'max_steps': max_steps\n",
    "})"
   ]
  },
  {
   "cell_type": "markdown",
   "id": "a6a26f0d",
   "metadata": {},
   "source": [
    "## Training"
   ]
  },
  {
   "cell_type": "code",
   "execution_count": null,
   "id": "fc56cbae",
   "metadata": {
    "execution": {
     "iopub.execute_input": "2023-01-25T07:11:17.060345Z",
     "iopub.status.busy": "2023-01-25T07:11:17.059730Z",
     "iopub.status.idle": "2023-01-25T15:24:07.818024Z",
     "shell.execute_reply": "2023-01-25T15:24:07.817125Z"
    },
    "papermill": {
     "duration": 29570.791373,
     "end_time": "2023-01-25T15:24:07.820049",
     "exception": false,
     "start_time": "2023-01-25T07:11:17.028676",
     "status": "completed"
    },
    "tags": []
   },
   "outputs": [],
   "source": [
    "agent = DQL(env, learning_rate, discount_factor, exploration_rate, \n",
    "            random_engine_fail=True, engine_fail_prob=0.6, fname='dql_ef')\n",
    "history = agent.train(episodes, max_steps, log_wandb=True, save_episodes=True, save_interval=100)"
   ]
  },
  {
   "cell_type": "code",
   "execution_count": null,
   "id": "1037bc27",
   "metadata": {
    "execution": {
     "iopub.execute_input": "2023-01-25T15:24:07.882079Z",
     "iopub.status.busy": "2023-01-25T15:24:07.881150Z",
     "iopub.status.idle": "2023-01-25T15:24:07.889495Z",
     "shell.execute_reply": "2023-01-25T15:24:07.888665Z"
    },
    "papermill": {
     "duration": 0.04083,
     "end_time": "2023-01-25T15:24:07.891435",
     "exception": false,
     "start_time": "2023-01-25T15:24:07.850605",
     "status": "completed"
    },
    "tags": []
   },
   "outputs": [],
   "source": [
    "# save history\n",
    "if not os.path.exists('./history'):\n",
    "        os.mkdir('./history')\n",
    "\n",
    "with open('./history/dqn_ef_history.json', 'w') as file:\n",
    "    json.dump(history, file)"
   ]
  },
  {
   "cell_type": "markdown",
   "id": "baf0de76",
   "metadata": {},
   "source": [
    "## Evaluation"
   ]
  },
  {
   "cell_type": "code",
   "execution_count": null,
   "id": "4b564d3d",
   "metadata": {},
   "outputs": [],
   "source": [
    "# with open('history\\dqn_ef_history.json', 'r') as file:\n",
    "#     history = json.load(file)\n",
    "\n",
    "# rewards, avg_rewards, steps = history['reward'], history['avg_reward_100'], history['steps']"
   ]
  },
  {
   "cell_type": "code",
   "execution_count": null,
   "id": "478482bc",
   "metadata": {},
   "outputs": [],
   "source": [
    "# plt.figure(figsize=(10, 5))\n",
    "\n",
    "# plt.plot(rewards, alpha=0.8, label='Reward')\n",
    "# plt.plot(avg_rewards, label='MA Reward (100)')\n",
    "\n",
    "# plt.title('DQL Agent w/ Random Engine Failure Rewards')\n",
    "# plt.xlabel('Episode')\n",
    "# plt.ylabel('Reward')\n",
    "# plt.legend()\n",
    "\n",
    "# plt.show()"
   ]
  },
  {
   "cell_type": "code",
   "execution_count": null,
   "id": "71d2f822",
   "metadata": {},
   "outputs": [],
   "source": [
    "# # plot cumulative reward\n",
    "# cumulative_reward = [sum(rewards[:i+1]) for i in range(len(rewards))]\n",
    "# plt.figure(figsize=(10, 5))\n",
    "\n",
    "# plt.plot(cumulative_reward, alpha=0.8, label='Cumulative Reward')\n",
    "\n",
    "# plt.title('DQL Agent w/ Random Engine Failure Cumulative Rewards')\n",
    "# plt.xlabel('Episode')\n",
    "# plt.ylabel('Reward')\n",
    "# plt.legend()\n",
    "# plt.show()"
   ]
  },
  {
   "cell_type": "code",
   "execution_count": null,
   "id": "0202510d",
   "metadata": {},
   "outputs": [],
   "source": [
    "# # plot steps and moving average steps\n",
    "# avg_steps = [sum(steps[:i+1])/(i+1) for i in range(len(steps))]\n",
    "# plt.figure(figsize=(10, 5))\n",
    "\n",
    "# plt.plot(steps, alpha=0.8, label='Steps')\n",
    "# plt.plot(avg_steps, label='MA Steps (100)')\n",
    "\n",
    "# plt.title('DQL Agent Steps')\n",
    "# plt.xlabel('Episode')\n",
    "# plt.ylabel('Steps')\n",
    "# plt.legend()\n",
    "# plt.show()"
   ]
  }
 ],
 "metadata": {
  "kernelspec": {
   "display_name": "Python 3",
   "language": "python",
   "name": "python3"
  },
  "language_info": {
   "codemirror_mode": {
    "name": "ipython",
    "version": 3
   },
   "file_extension": ".py",
   "mimetype": "text/x-python",
   "name": "python",
   "nbconvert_exporter": "python",
   "pygments_lexer": "ipython3",
   "version": "3.10.7 (tags/v3.10.7:6cc6b13, Sep  5 2022, 14:08:36) [MSC v.1933 64 bit (AMD64)]"
  },
  "papermill": {
   "default_parameters": {},
   "duration": 29640.547849,
   "end_time": "2023-01-25T15:24:10.983975",
   "environment_variables": {},
   "exception": null,
   "input_path": "__notebook__.ipynb",
   "output_path": "__notebook__.ipynb",
   "parameters": {},
   "start_time": "2023-01-25T07:10:10.436126",
   "version": "2.3.4"
  },
  "vscode": {
   "interpreter": {
    "hash": "5f90d085fc70553c85f15dd96b84c64a94d58988a621c9dbc38cac6a7e6079b3"
   }
  },
  "widgets": {
   "application/vnd.jupyter.widget-state+json": {
    "state": {
     "142a3819660747a8808c0e7f9ded782e": {
      "model_module": "@jupyter-widgets/base",
      "model_module_version": "1.2.0",
      "model_name": "LayoutModel",
      "state": {
       "_model_module": "@jupyter-widgets/base",
       "_model_module_version": "1.2.0",
       "_model_name": "LayoutModel",
       "_view_count": null,
       "_view_module": "@jupyter-widgets/base",
       "_view_module_version": "1.2.0",
       "_view_name": "LayoutView",
       "align_content": null,
       "align_items": null,
       "align_self": null,
       "border": null,
       "bottom": null,
       "display": null,
       "flex": null,
       "flex_flow": null,
       "grid_area": null,
       "grid_auto_columns": null,
       "grid_auto_flow": null,
       "grid_auto_rows": null,
       "grid_column": null,
       "grid_gap": null,
       "grid_row": null,
       "grid_template_areas": null,
       "grid_template_columns": null,
       "grid_template_rows": null,
       "height": null,
       "justify_content": null,
       "justify_items": null,
       "left": null,
       "margin": null,
       "max_height": null,
       "max_width": null,
       "min_height": null,
       "min_width": null,
       "object_fit": null,
       "object_position": null,
       "order": null,
       "overflow": null,
       "overflow_x": null,
       "overflow_y": null,
       "padding": null,
       "right": null,
       "top": null,
       "visibility": null,
       "width": null
      }
     },
     "1b32ca73177e4570a733bb1c833172eb": {
      "model_module": "@jupyter-widgets/controls",
      "model_module_version": "1.5.0",
      "model_name": "VBoxModel",
      "state": {
       "_dom_classes": [],
       "_model_module": "@jupyter-widgets/controls",
       "_model_module_version": "1.5.0",
       "_model_name": "VBoxModel",
       "_view_count": null,
       "_view_module": "@jupyter-widgets/controls",
       "_view_module_version": "1.5.0",
       "_view_name": "VBoxView",
       "box_style": "",
       "children": [
        "IPY_MODEL_3d2558a5ccac4018b972fc31cc47e4f7",
        "IPY_MODEL_41b9bb8a5c3445dbb09c9e3df0e18b9c"
       ],
       "layout": "IPY_MODEL_aa0fced344484250b96dff9f3ebb95fb"
      }
     },
     "3d2558a5ccac4018b972fc31cc47e4f7": {
      "model_module": "@jupyter-widgets/controls",
      "model_module_version": "1.5.0",
      "model_name": "LabelModel",
      "state": {
       "_dom_classes": [],
       "_model_module": "@jupyter-widgets/controls",
       "_model_module_version": "1.5.0",
       "_model_name": "LabelModel",
       "_view_count": null,
       "_view_module": "@jupyter-widgets/controls",
       "_view_module_version": "1.5.0",
       "_view_name": "LabelView",
       "description": "",
       "description_tooltip": null,
       "layout": "IPY_MODEL_b163f82537204c64a6858ca5f38db32a",
       "placeholder": "​",
       "style": "IPY_MODEL_b0cc6ed8557141438a8c281b4ab9638b",
       "value": "0.077 MB of 0.077 MB uploaded (0.000 MB deduped)\r"
      }
     },
     "41b9bb8a5c3445dbb09c9e3df0e18b9c": {
      "model_module": "@jupyter-widgets/controls",
      "model_module_version": "1.5.0",
      "model_name": "FloatProgressModel",
      "state": {
       "_dom_classes": [],
       "_model_module": "@jupyter-widgets/controls",
       "_model_module_version": "1.5.0",
       "_model_name": "FloatProgressModel",
       "_view_count": null,
       "_view_module": "@jupyter-widgets/controls",
       "_view_module_version": "1.5.0",
       "_view_name": "ProgressView",
       "bar_style": "",
       "description": "",
       "description_tooltip": null,
       "layout": "IPY_MODEL_142a3819660747a8808c0e7f9ded782e",
       "max": 1,
       "min": 0,
       "orientation": "horizontal",
       "style": "IPY_MODEL_7d9029c04bef423a8ab82e1c124340d1",
       "value": 1
      }
     },
     "7d9029c04bef423a8ab82e1c124340d1": {
      "model_module": "@jupyter-widgets/controls",
      "model_module_version": "1.5.0",
      "model_name": "ProgressStyleModel",
      "state": {
       "_model_module": "@jupyter-widgets/controls",
       "_model_module_version": "1.5.0",
       "_model_name": "ProgressStyleModel",
       "_view_count": null,
       "_view_module": "@jupyter-widgets/base",
       "_view_module_version": "1.2.0",
       "_view_name": "StyleView",
       "bar_color": null,
       "description_width": ""
      }
     },
     "aa0fced344484250b96dff9f3ebb95fb": {
      "model_module": "@jupyter-widgets/base",
      "model_module_version": "1.2.0",
      "model_name": "LayoutModel",
      "state": {
       "_model_module": "@jupyter-widgets/base",
       "_model_module_version": "1.2.0",
       "_model_name": "LayoutModel",
       "_view_count": null,
       "_view_module": "@jupyter-widgets/base",
       "_view_module_version": "1.2.0",
       "_view_name": "LayoutView",
       "align_content": null,
       "align_items": null,
       "align_self": null,
       "border": null,
       "bottom": null,
       "display": null,
       "flex": null,
       "flex_flow": null,
       "grid_area": null,
       "grid_auto_columns": null,
       "grid_auto_flow": null,
       "grid_auto_rows": null,
       "grid_column": null,
       "grid_gap": null,
       "grid_row": null,
       "grid_template_areas": null,
       "grid_template_columns": null,
       "grid_template_rows": null,
       "height": null,
       "justify_content": null,
       "justify_items": null,
       "left": null,
       "margin": null,
       "max_height": null,
       "max_width": null,
       "min_height": null,
       "min_width": null,
       "object_fit": null,
       "object_position": null,
       "order": null,
       "overflow": null,
       "overflow_x": null,
       "overflow_y": null,
       "padding": null,
       "right": null,
       "top": null,
       "visibility": null,
       "width": null
      }
     },
     "b0cc6ed8557141438a8c281b4ab9638b": {
      "model_module": "@jupyter-widgets/controls",
      "model_module_version": "1.5.0",
      "model_name": "DescriptionStyleModel",
      "state": {
       "_model_module": "@jupyter-widgets/controls",
       "_model_module_version": "1.5.0",
       "_model_name": "DescriptionStyleModel",
       "_view_count": null,
       "_view_module": "@jupyter-widgets/base",
       "_view_module_version": "1.2.0",
       "_view_name": "StyleView",
       "description_width": ""
      }
     },
     "b163f82537204c64a6858ca5f38db32a": {
      "model_module": "@jupyter-widgets/base",
      "model_module_version": "1.2.0",
      "model_name": "LayoutModel",
      "state": {
       "_model_module": "@jupyter-widgets/base",
       "_model_module_version": "1.2.0",
       "_model_name": "LayoutModel",
       "_view_count": null,
       "_view_module": "@jupyter-widgets/base",
       "_view_module_version": "1.2.0",
       "_view_name": "LayoutView",
       "align_content": null,
       "align_items": null,
       "align_self": null,
       "border": null,
       "bottom": null,
       "display": null,
       "flex": null,
       "flex_flow": null,
       "grid_area": null,
       "grid_auto_columns": null,
       "grid_auto_flow": null,
       "grid_auto_rows": null,
       "grid_column": null,
       "grid_gap": null,
       "grid_row": null,
       "grid_template_areas": null,
       "grid_template_columns": null,
       "grid_template_rows": null,
       "height": null,
       "justify_content": null,
       "justify_items": null,
       "left": null,
       "margin": null,
       "max_height": null,
       "max_width": null,
       "min_height": null,
       "min_width": null,
       "object_fit": null,
       "object_position": null,
       "order": null,
       "overflow": null,
       "overflow_x": null,
       "overflow_y": null,
       "padding": null,
       "right": null,
       "top": null,
       "visibility": null,
       "width": null
      }
     }
    },
    "version_major": 2,
    "version_minor": 0
   }
  }
 },
 "nbformat": 4,
 "nbformat_minor": 5
}
