{
 "cells": [
  {
   "attachments": {},
   "cell_type": "markdown",
   "metadata": {},
   "source": [
    "# Deep SARSA Agent w/ Random Engine Failure"
   ]
  },
  {
   "cell_type": "code",
   "execution_count": 1,
   "metadata": {},
   "outputs": [],
   "source": [
    "import os\n",
    "import json\n",
    "import wandb\n",
    "import gymnasium as gym\n",
    "from matplotlib import pyplot as plt\n",
    "import seaborn as sns\n",
    "from models.sarsa import SARSA"
   ]
  },
  {
   "cell_type": "code",
   "execution_count": 2,
   "metadata": {},
   "outputs": [],
   "source": [
    "!wandb login 5f71bc6f91cdaa551a70e88cf2522fcc1425d29b"
   ]
  },
  {
   "cell_type": "code",
   "execution_count": 3,
   "metadata": {},
   "outputs": [],
   "source": [
    "env = gym.make('LunarLander-v2', continuous=False, render_mode='rgb_array')\n",
    "learning_rate = 0.0005\n",
    "discount_factor = 0.99\n",
    "exploration_rate = 1.0\n",
    "episodes = 500\n",
    "max_steps = 1000\n",
    "\n",
    "wandb.init(project='lunar-lander-rl', entity='timothyckl', config={\n",
    "    'learning_rate': learning_rate,\n",
    "    'discount_factor': discount_factor,\n",
    "    'exploration_rate': exploration_rate,\n",
    "    'episodes': episodes,\n",
    "    'max_steps': max_steps\n",
    "})"
   ]
  },
  {
   "attachments": {},
   "cell_type": "markdown",
   "metadata": {},
   "source": [
    "## Training"
   ]
  },
  {
   "cell_type": "code",
   "execution_count": 4,
   "metadata": {},
   "outputs": [
    {
     "name": "stdout",
     "output_type": "stream",
     "text": [
      "[EP 1/10] - Reward: -98.5108 - Steps: 86 - Eps: 0.8016 - Time: 13.86s\n",
      "[EP 2/10] - Reward: -111.3492 - Steps: 77 - Eps: 0.3697 - Time: 34.07s\n",
      "[EP 3/10] - Reward: -54.9558 - Steps: 106 - Eps: 0.1274 - Time: 49.83s\n",
      "[EP 4/10] - Reward: -36.9948 - Steps: 120 - Eps: 0.0381 - Time: 59.88s\n",
      "[EP 5/10] - Reward: -168.5406 - Steps: 114 - Eps: 0.0121 - Time: 55.30s\n",
      "[EP 6/10] - Reward: -68.4566 - Steps: 89 - Eps: 0.0100 - Time: 45.69s\n",
      "[EP 7/10] - Reward: -73.0086 - Steps: 95 - Eps: 0.0100 - Time: 38.51s\n",
      "[EP 8/10] - Reward: -34.3499 - Steps: 93 - Eps: 0.0100 - Time: 38.31s\n",
      "[EP 9/10] - Reward: -187.2120 - Steps: 79 - Eps: 0.0100 - Time: 29.75s\n",
      "[EP 10/10] - Reward: -134.0260 - Steps: 77 - Eps: 0.0100 - Time: 30.46s\n"
     ]
    }
   ],
   "source": [
    "agent = SARSA(env, learning_rate, discount_factor, exploration_rate, \n",
    "            random_engine_fail=True, engine_fail_prob=0.6, fname='sarsa_ef')\n",
    "history = agent.train(episodes, max_steps, log_wandb=True, save_episodes=True, save_interval=100)"
   ]
  },
  {
   "cell_type": "code",
   "execution_count": null,
   "metadata": {},
   "outputs": [],
   "source": [
    "# save history\n",
    "if not os.path.exists('./history'):\n",
    "        os.mkdir('./history')\n",
    "\n",
    "with open('./history/sarsa_ef_history.json', 'w') as file:\n",
    "    json.dump(history, file)"
   ]
  },
  {
   "attachments": {},
   "cell_type": "markdown",
   "metadata": {},
   "source": [
    "## Evaluation"
   ]
  },
  {
   "cell_type": "code",
   "execution_count": null,
   "metadata": {},
   "outputs": [],
   "source": [
    "# with open('history\\sarsa_ef_history.json', 'r') as file:\n",
    "#     history = json.load(file)\n",
    "\n",
    "# rewards, avg_rewards, steps = history['reward'], history['avg_reward_100'], history['steps']"
   ]
  },
  {
   "cell_type": "code",
   "execution_count": null,
   "metadata": {},
   "outputs": [],
   "source": [
    "# plt.figure(figsize=(10, 5))\n",
    "\n",
    "# plt.plot(rewards, alpha=0.8, label='Reward')\n",
    "# plt.plot(avg_rewards, label='MA Reward (100)')\n",
    "\n",
    "# plt.title('SARSA Agent w/ Random Engine Failure Rewards')\n",
    "# plt.xlabel('Episode')\n",
    "# plt.ylabel('Reward')\n",
    "# plt.legend()\n",
    "\n",
    "# plt.show()"
   ]
  },
  {
   "cell_type": "code",
   "execution_count": null,
   "metadata": {},
   "outputs": [],
   "source": [
    "# # plot cumulative reward\n",
    "# cumulative_reward = [sum(rewards[:i+1]) for i in range(len(rewards))]\n",
    "# plt.figure(figsize=(10, 5))\n",
    "\n",
    "# plt.plot(cumulative_reward, alpha=0.8, label='Cumulative Reward')\n",
    "\n",
    "# plt.title('SARSA Agent w/ Random Engine Failure Cumulative Rewards')\n",
    "# plt.xlabel('Episode')\n",
    "# plt.ylabel('Reward')\n",
    "# plt.legend()\n",
    "# plt.show()"
   ]
  },
  {
   "cell_type": "code",
   "execution_count": null,
   "metadata": {},
   "outputs": [],
   "source": [
    "# # plot steps and moving average steps\n",
    "# avg_steps = [sum(steps[:i+1])/(i+1) for i in range(len(steps))]\n",
    "# plt.figure(figsize=(10, 5))\n",
    "\n",
    "# plt.plot(steps, alpha=0.8, label='Steps')\n",
    "# plt.plot(avg_steps, label='MA Steps (100)')\n",
    "\n",
    "# plt.title('SARSA Agent Steps')\n",
    "# plt.xlabel('Episode')\n",
    "# plt.ylabel('Steps')\n",
    "# plt.legend()\n",
    "# plt.show()"
   ]
  }
 ],
 "metadata": {
  "kernelspec": {
   "display_name": "gpu_env",
   "language": "python",
   "name": "python3"
  },
  "language_info": {
   "codemirror_mode": {
    "name": "ipython",
    "version": 3
   },
   "file_extension": ".py",
   "mimetype": "text/x-python",
   "name": "python",
   "nbconvert_exporter": "python",
   "pygments_lexer": "ipython3",
   "version": "3.8.13"
  },
  "orig_nbformat": 4,
  "vscode": {
   "interpreter": {
    "hash": "15c5baac91721a2e9125fc9e7830b5bd4b6688550f5daa42d124d7a05043362d"
   }
  }
 },
 "nbformat": 4,
 "nbformat_minor": 2
}
