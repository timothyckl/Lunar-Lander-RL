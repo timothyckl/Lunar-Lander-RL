{
 "cells": [
  {
   "cell_type": "code",
   "execution_count": 1,
   "metadata": {},
   "outputs": [],
   "source": [
    "import os\n",
    "import json\n",
    "import wandb\n",
    "import gymnasium as gym\n",
    "from models.dueling_ddql import DuelingDDQL"
   ]
  },
  {
   "cell_type": "code",
   "execution_count": null,
   "metadata": {},
   "outputs": [],
   "source": [
    "# !wandb login 5f71bc6f91cdaa551a70e88cf2522fcc1425d29b"
   ]
  },
  {
   "cell_type": "code",
   "execution_count": 2,
   "metadata": {},
   "outputs": [],
   "source": [
    "env = gym.make('LunarLander-v2', continuous=False, render_mode='rgb_array')\n",
    "learning_rate = 1e-3\n",
    "discount_factor = 0.99\n",
    "exploration_rate = 1.0\n",
    "episodes = 10\n",
    "max_steps = 1000\n",
    "\n",
    "# wandb.init(project='lunar-lander-rl', entity='timothyckl', config={\n",
    "#     'learning_rate': learning_rate,\n",
    "#     'discount_factor': discount_factor,\n",
    "#     'exploration_rate': exploration_rate,\n",
    "#     'episodes': episodes,\n",
    "#     'max_steps': max_steps\n",
    "# })"
   ]
  },
  {
   "cell_type": "code",
   "execution_count": 3,
   "metadata": {},
   "outputs": [
    {
     "name": "stdout",
     "output_type": "stream",
     "text": [
      "[EP 1/10] - Reward: -344.7646 - Steps: 212 - Eps: 0.0100 - Time: 59.84s\n",
      "[EP 2/10] - Reward: -180.6005 - Steps: 321 - Eps: 0.0100 - Time: 123.17s\n",
      "[EP 3/10] - Reward: -188.5823 - Steps: 177 - Eps: 0.0100 - Time: 70.65s\n",
      "[EP 4/10] - Reward: -82.9944 - Steps: 254 - Eps: 0.0100 - Time: 81.68s\n",
      "[EP 5/10] - Reward: -37.8632 - Steps: 154 - Eps: 0.0100 - Time: 56.00s\n",
      "[EP 6/10] - Reward: -69.2506 - Steps: 101 - Eps: 0.0100 - Time: 36.78s\n",
      "[EP 7/10] - Reward: -10.0123 - Steps: 105 - Eps: 0.0100 - Time: 39.14s\n",
      "[EP 8/10] - Reward: -158.3019 - Steps: 205 - Eps: 0.0100 - Time: 71.12s\n",
      "[EP 9/10] - Reward: -167.7265 - Steps: 137 - Eps: 0.0100 - Time: 45.35s\n",
      "[EP 10/10] - Reward: 6.7862 - Steps: 144 - Eps: 0.0100 - Time: 55.70s\n",
      "INFO:tensorflow:Assets written to: assets/dueling_ddql\\assets\n"
     ]
    }
   ],
   "source": [
    "agent = DuelingDDQL(env, learning_rate, discount_factor, exploration_rate)\n",
    "history = agent.train(episodes, max_steps, log_wandb=False, update=True, save_episodes=True, save_interval=1)"
   ]
  }
 ],
 "metadata": {
  "kernelspec": {
   "display_name": "gpu_env",
   "language": "python",
   "name": "python3"
  },
  "language_info": {
   "codemirror_mode": {
    "name": "ipython",
    "version": 3
   },
   "file_extension": ".py",
   "mimetype": "text/x-python",
   "name": "python",
   "nbconvert_exporter": "python",
   "pygments_lexer": "ipython3",
   "version": "3.8.13"
  },
  "orig_nbformat": 4,
  "vscode": {
   "interpreter": {
    "hash": "15c5baac91721a2e9125fc9e7830b5bd4b6688550f5daa42d124d7a05043362d"
   }
  }
 },
 "nbformat": 4,
 "nbformat_minor": 2
}
