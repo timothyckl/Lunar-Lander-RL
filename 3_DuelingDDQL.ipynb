{
 "cells": [
  {
   "cell_type": "code",
   "execution_count": 1,
   "metadata": {},
   "outputs": [],
   "source": [
    "import os\n",
    "import json\n",
    "import wandb\n",
    "import gymnasium as gym\n",
    "from models.dueling_ddql import DuelingDDQL"
   ]
  },
  {
   "cell_type": "code",
   "execution_count": 2,
   "metadata": {},
   "outputs": [],
   "source": [
    "# !wandb login 5f71bc6f91cdaa551a70e88cf2522fcc1425d29b"
   ]
  },
  {
   "cell_type": "code",
   "execution_count": 3,
   "metadata": {},
   "outputs": [],
   "source": [
    "env = gym.make('LunarLander-v2', continuous=False, render_mode='rgb_array')\n",
    "learning_rate = 1e-3\n",
    "discount_factor = 0.99\n",
    "exploration_rate = 1.0\n",
    "episodes = 100\n",
    "max_steps = 1000\n",
    "\n",
    "# wandb.init(project='lunar-lander-rl', entity='timothyckl', config={\n",
    "#     'learning_rate': learning_rate,\n",
    "#     'discount_factor': discount_factor,\n",
    "#     'exploration_rate': exploration_rate,\n",
    "#     'episodes': episodes,\n",
    "#     'max_steps': max_steps\n",
    "# })"
   ]
  },
  {
   "cell_type": "code",
   "execution_count": 4,
   "metadata": {},
   "outputs": [
    {
     "name": "stdout",
     "output_type": "stream",
     "text": [
      "[EP 1/100] - Reward: -212.0471 - Steps: 108 - Eps: 0.0100 - Time: 11.31s\n",
      "[EP 2/100] - Reward: -403.6379 - Steps: 77 - Eps: 0.0100 - Time: 14.91s\n",
      "[EP 3/100] - Reward: -106.9481 - Steps: 147 - Eps: 0.0100 - Time: 40.15s\n",
      "[EP 4/100] - Reward: -144.2548 - Steps: 102 - Eps: 0.0100 - Time: 23.91s\n",
      "[EP 5/100] - Reward: 30.0864 - Steps: 157 - Eps: 0.0100 - Time: 37.38s\n",
      "[EP 6/100] - Reward: -331.1732 - Steps: 64 - Eps: 0.0100 - Time: 15.20s\n",
      "[EP 7/100] - Reward: -237.8641 - Steps: 103 - Eps: 0.0100 - Time: 24.88s\n",
      "[EP 8/100] - Reward: -322.2856 - Steps: 116 - Eps: 0.0100 - Time: 27.78s\n",
      "[EP 9/100] - Reward: -11.6718 - Steps: 89 - Eps: 0.0100 - Time: 20.34s\n",
      "[EP 10/100] - Reward: -248.0306 - Steps: 119 - Eps: 0.0100 - Time: 38.78s\n",
      "[EP 11/100] - Reward: -558.5532 - Steps: 137 - Eps: 0.0100 - Time: 49.56s\n",
      "[EP 12/100] - Reward: -328.0718 - Steps: 136 - Eps: 0.0100 - Time: 37.14s\n",
      "[EP 13/100] - Reward: -290.3589 - Steps: 122 - Eps: 0.0100 - Time: 41.36s\n",
      "[EP 14/100] - Reward: -84.0687 - Steps: 116 - Eps: 0.0100 - Time: 39.26s\n",
      "[EP 15/100] - Reward: -38.7154 - Steps: 114 - Eps: 0.0100 - Time: 38.67s\n",
      "[EP 16/100] - Reward: -202.2099 - Steps: 282 - Eps: 0.0100 - Time: 74.62s\n",
      "[EP 17/100] - Reward: -66.5520 - Steps: 1000 - Eps: 0.0100 - Time: 364.27s\n",
      "[EP 18/100] - Reward: -96.6476 - Steps: 596 - Eps: 0.0100 - Time: 225.18s\n"
     ]
    }
   ],
   "source": [
    "agent = DuelingDDQL(env, learning_rate, discount_factor, exploration_rate)\n",
    "history = agent.train(episodes, max_steps, log_wandb=False, update=True, save_episodes=True, save_interval=10)"
   ]
  },
  {
   "attachments": {},
   "cell_type": "markdown",
   "metadata": {},
   "source": [
    "## Evaluation"
   ]
  },
  {
   "cell_type": "code",
   "execution_count": null,
   "metadata": {},
   "outputs": [],
   "source": [
    "# test agent\n",
    "# history = agent.train(10, 1000, log_wandb=False, update=False)"
   ]
  },
  {
   "cell_type": "code",
   "execution_count": null,
   "metadata": {},
   "outputs": [],
   "source": [
    "# save history\n",
    "# if not os.path.exists('./history'):\n",
    "#         os.mkdir('./history')\n",
    "\n",
    "# with open('./history/dueling_dql_history.json', 'w') as file:\n",
    "#     json.dump(history, file)"
   ]
  }
 ],
 "metadata": {
  "kernelspec": {
   "display_name": "gpu_env",
   "language": "python",
   "name": "python3"
  },
  "language_info": {
   "codemirror_mode": {
    "name": "ipython",
    "version": 3
   },
   "file_extension": ".py",
   "mimetype": "text/x-python",
   "name": "python",
   "nbconvert_exporter": "python",
   "pygments_lexer": "ipython3",
   "version": "3.8.13"
  },
  "orig_nbformat": 4,
  "vscode": {
   "interpreter": {
    "hash": "15c5baac91721a2e9125fc9e7830b5bd4b6688550f5daa42d124d7a05043362d"
   }
  }
 },
 "nbformat": 4,
 "nbformat_minor": 2
}
