{
 "cells": [
  {
   "cell_type": "code",
   "execution_count": 1,
   "metadata": {},
   "outputs": [],
   "source": [
    "import gymnasium as gym\n",
    "from models.sarsa import SARSA\n",
    "\n",
    "import matplotlib.pyplot as plt\n",
    "import seaborn"
   ]
  },
  {
   "cell_type": "code",
   "execution_count": 2,
   "metadata": {},
   "outputs": [],
   "source": [
    "env = gym.make('LunarLander-v2', render_mode='rgb_array')\n",
    "lr = 0.0004233541071584581\n",
    "discount = 0.99\n",
    "exploration_rate = 1.0\n",
    "exploration_decay = 0.9524257785303656\n",
    "update_interval = 10\n",
    "num_episodes = 1000\n",
    "agent = SARSA(\n",
    "    env=env,\n",
    "    alpha=lr,\n",
    "    gamma=discount,\n",
    "    epsilon=exploration_rate,\n",
    "    epsilon_decay=exploration_decay\n",
    ")"
   ]
  },
  {
   "cell_type": "code",
   "execution_count": 3,
   "metadata": {},
   "outputs": [
    {
     "name": "stdout",
     "output_type": "stream",
     "text": [
      "hello\n"
     ]
    },
    {
     "ename": "ValueError",
     "evalue": "Sample larger than population or is negative",
     "output_type": "error",
     "traceback": [
      "\u001b[1;31m---------------------------------------------------------------------------\u001b[0m",
      "\u001b[1;31mValueError\u001b[0m                                Traceback (most recent call last)",
      "\u001b[1;32mc:\\Users\\timot\\Desktop\\DELE_CA2\\PartB_Lunar_Lander_RL\\SARSA.ipynb Cell 3\u001b[0m in \u001b[0;36m<cell line: 1>\u001b[1;34m()\u001b[0m\n\u001b[1;32m----> <a href='vscode-notebook-cell:/c%3A/Users/timot/Desktop/DELE_CA2/PartB_Lunar_Lander_RL/SARSA.ipynb#W2sZmlsZQ%3D%3D?line=0'>1</a>\u001b[0m agent\u001b[39m.\u001b[39;49mtrain(num_episodes\u001b[39m=\u001b[39;49mnum_episodes)\n",
      "File \u001b[1;32mc:\\Users\\timot\\Desktop\\DELE_CA2\\PartB_Lunar_Lander_RL\\models\\sarsa.py:69\u001b[0m, in \u001b[0;36mSARSA.train\u001b[1;34m(self, num_episodes, max_num_steps)\u001b[0m\n\u001b[0;32m     66\u001b[0m state \u001b[39m=\u001b[39m next_state\n\u001b[0;32m     67\u001b[0m episode_reward \u001b[39m+\u001b[39m\u001b[39m=\u001b[39m reward\n\u001b[1;32m---> 69\u001b[0m \u001b[39mself\u001b[39;49m\u001b[39m.\u001b[39;49mupdate_local()\n\u001b[0;32m     71\u001b[0m \u001b[39mif\u001b[39;00m done:\n\u001b[0;32m     72\u001b[0m     \u001b[39mbreak\u001b[39;00m\n",
      "File \u001b[1;32mc:\\Users\\timot\\Desktop\\DELE_CA2\\PartB_Lunar_Lander_RL\\models\\sarsa.py:37\u001b[0m, in \u001b[0;36mSARSA.update_local\u001b[1;34m(self)\u001b[0m\n\u001b[0;32m     32\u001b[0m \u001b[39m'''\u001b[39;00m\n\u001b[0;32m     33\u001b[0m \u001b[39mUpdate local network weights with SARSA algorithm\u001b[39;00m\n\u001b[0;32m     34\u001b[0m \u001b[39m'''\u001b[39;00m\n\u001b[0;32m     35\u001b[0m \u001b[39m# sample a batch of experiences from the replay buffer\u001b[39;00m\n\u001b[0;32m     36\u001b[0m states, actions, rewards, next_states, \\\n\u001b[1;32m---> 37\u001b[0m     next_actions, dones \u001b[39m=\u001b[39m \u001b[39mself\u001b[39;49m\u001b[39m.\u001b[39;49mmemory\u001b[39m.\u001b[39;49msarsa_sample(\u001b[39mself\u001b[39;49m\u001b[39m.\u001b[39;49mbatch_size)\n\u001b[0;32m     39\u001b[0m \u001b[39m# Q(s, a)\u001b[39;00m\n\u001b[0;32m     40\u001b[0m q_values \u001b[39m=\u001b[39m \u001b[39mself\u001b[39m\u001b[39m.\u001b[39mqnet_local\u001b[39m.\u001b[39mpredict_on_batch(states)\n",
      "File \u001b[1;32mc:\\Users\\timot\\Desktop\\DELE_CA2\\PartB_Lunar_Lander_RL\\models\\utils.py:76\u001b[0m, in \u001b[0;36mReplayBuffer.sarsa_sample\u001b[1;34m(self, batch_size)\u001b[0m\n\u001b[0;32m     74\u001b[0m \u001b[39mself\u001b[39m\u001b[39m.\u001b[39mmemory \u001b[39m=\u001b[39m namedtuple(\u001b[39m'\u001b[39m\u001b[39mExperience\u001b[39m\u001b[39m'\u001b[39m, [\u001b[39m'\u001b[39m\u001b[39mstate\u001b[39m\u001b[39m'\u001b[39m, \u001b[39m'\u001b[39m\u001b[39maction\u001b[39m\u001b[39m'\u001b[39m, \u001b[39m'\u001b[39m\u001b[39mreward\u001b[39m\u001b[39m'\u001b[39m, \u001b[39m'\u001b[39m\u001b[39mnext_state\u001b[39m\u001b[39m'\u001b[39m, \u001b[39m'\u001b[39m\u001b[39mnext_action\u001b[39m\u001b[39m'\u001b[39m, \u001b[39m'\u001b[39m\u001b[39mdone\u001b[39m\u001b[39m'\u001b[39m])\n\u001b[0;32m     75\u001b[0m \u001b[39mprint\u001b[39m(\u001b[39m'\u001b[39m\u001b[39mhello\u001b[39m\u001b[39m'\u001b[39m)\n\u001b[1;32m---> 76\u001b[0m sampled_exp \u001b[39m=\u001b[39m random\u001b[39m.\u001b[39;49msample(\u001b[39mself\u001b[39;49m\u001b[39m.\u001b[39;49mbuffer, batch_size)\n\u001b[0;32m     77\u001b[0m \u001b[39mprint\u001b[39m(sampled_exp)\n\u001b[0;32m     78\u001b[0m states, actions, rewards, next_states, next_actions, dones \u001b[39m=\u001b[39m \u001b[39mzip\u001b[39m(\u001b[39m*\u001b[39msampled_exp)\n",
      "File \u001b[1;32mc:\\Users\\timot\\anaconda3\\envs\\gpu_env\\lib\\random.py:363\u001b[0m, in \u001b[0;36mRandom.sample\u001b[1;34m(self, population, k)\u001b[0m\n\u001b[0;32m    361\u001b[0m n \u001b[39m=\u001b[39m \u001b[39mlen\u001b[39m(population)\n\u001b[0;32m    362\u001b[0m \u001b[39mif\u001b[39;00m \u001b[39mnot\u001b[39;00m \u001b[39m0\u001b[39m \u001b[39m<\u001b[39m\u001b[39m=\u001b[39m k \u001b[39m<\u001b[39m\u001b[39m=\u001b[39m n:\n\u001b[1;32m--> 363\u001b[0m     \u001b[39mraise\u001b[39;00m \u001b[39mValueError\u001b[39;00m(\u001b[39m\"\u001b[39m\u001b[39mSample larger than population or is negative\u001b[39m\u001b[39m\"\u001b[39m)\n\u001b[0;32m    364\u001b[0m result \u001b[39m=\u001b[39m [\u001b[39mNone\u001b[39;00m] \u001b[39m*\u001b[39m k\n\u001b[0;32m    365\u001b[0m setsize \u001b[39m=\u001b[39m \u001b[39m21\u001b[39m        \u001b[39m# size of a small set minus size of an empty list\u001b[39;00m\n",
      "\u001b[1;31mValueError\u001b[0m: Sample larger than population or is negative"
     ]
    }
   ],
   "source": [
    "agent.train(num_episodes=num_episodes)"
   ]
  }
 ],
 "metadata": {
  "kernelspec": {
   "display_name": "gpu_env",
   "language": "python",
   "name": "python3"
  },
  "language_info": {
   "codemirror_mode": {
    "name": "ipython",
    "version": 3
   },
   "file_extension": ".py",
   "mimetype": "text/x-python",
   "name": "python",
   "nbconvert_exporter": "python",
   "pygments_lexer": "ipython3",
   "version": "3.8.13"
  },
  "orig_nbformat": 4,
  "vscode": {
   "interpreter": {
    "hash": "15c5baac91721a2e9125fc9e7830b5bd4b6688550f5daa42d124d7a05043362d"
   }
  }
 },
 "nbformat": 4,
 "nbformat_minor": 2
}
