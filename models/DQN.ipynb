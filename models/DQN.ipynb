{
 "cells": [
  {
   "cell_type": "code",
   "execution_count": 1,
   "metadata": {},
   "outputs": [],
   "source": [
    "import gymnasium as gym\n",
    "from models.dqn import DQN\n",
    "import matplotlib.pyplot as plt"
   ]
  },
  {
   "cell_type": "code",
   "execution_count": 2,
   "metadata": {},
   "outputs": [],
   "source": [
    "env = gym.make('LunarLander-v2', continuous=False, render_mode='rgb_array')\n",
    "\n",
    "discount = 0.99\n",
    "learning_rate = 0.0004\n",
    "exploration = 1.0\n",
    "exploration_decay = 0.95\n",
    "n_episodes = 1000\n",
    "\n",
    "agent = DQN(env, discount, learning_rate, exploration, exploration_decay)"
   ]
  },
  {
   "cell_type": "code",
   "execution_count": 3,
   "metadata": {},
   "outputs": [
    {
     "name": "stderr",
     "output_type": "stream",
     "text": [
      "Episode 37/1000:  32%|███▏      | 322/1000 [01:08<02:31,  4.47step/s] "
     ]
    }
   ],
   "source": [
    "rewards, exploration_rates, steps_per_episode = agent.train(n_episodes)"
   ]
  },
  {
   "cell_type": "code",
   "execution_count": null,
   "metadata": {},
   "outputs": [],
   "source": [
    "fig, axes = plt.subplots(1, 3, figsize=(20, 5))\n",
    "\n",
    "axes[0].plot(rewards)\n",
    "axes[0].set_title('Rewards')\n",
    "axes[0].set_xlabel('Episode')\n",
    "axes[0].set_ylabel('Reward')\n",
    "\n",
    "axes[1].plot(exploration_rates)\n",
    "axes[1].set_title('Exploration Rates')\n",
    "axes[1].set_xlabel('Episode')\n",
    "axes[1].set_ylabel('Exploration Rate')\n",
    "\n",
    "axes[2].plot(steps_per_episode)\n",
    "axes[2].set_title('Steps per Episode')\n",
    "axes[2].set_xlabel('Episode')\n",
    "axes[2].set_ylabel('Steps')\n",
    "\n",
    "plt.show()"
   ]
  }
 ],
 "metadata": {
  "kernelspec": {
   "display_name": "gpu_env",
   "language": "python",
   "name": "python3"
  },
  "language_info": {
   "codemirror_mode": {
    "name": "ipython",
    "version": 3
   },
   "file_extension": ".py",
   "mimetype": "text/x-python",
   "name": "python",
   "nbconvert_exporter": "python",
   "pygments_lexer": "ipython3",
   "version": "3.8.13"
  },
  "orig_nbformat": 4,
  "vscode": {
   "interpreter": {
    "hash": "15c5baac91721a2e9125fc9e7830b5bd4b6688550f5daa42d124d7a05043362d"
   }
  }
 },
 "nbformat": 4,
 "nbformat_minor": 2
}
